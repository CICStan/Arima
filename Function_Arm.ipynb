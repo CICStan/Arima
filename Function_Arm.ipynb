{
  "nbformat": 4,
  "nbformat_minor": 0,
  "metadata": {
    "colab": {
      "provenance": []
    },
    "kernelspec": {
      "name": "python3",
      "display_name": "Python 3"
    },
    "language_info": {
      "name": "python"
    }
  },
  "cells": [
    {
      "cell_type": "code",
      "execution_count": null,
      "metadata": {
        "id": "Hx2GqG1hSL0l"
      },
      "outputs": [],
      "source": [
        "#For Use of Horizontal Time Series Analysis\n",
        "#Lack of Seasonality\n",
        "\n",
        "#x = Predicted Period\n",
        "#n = #.Periods\n",
        "#entity = Forecasted objects\n",
        "#data = source of data\n",
        "\n",
        "import seaborn as sns\n",
        "import statsmodels.api as sm\n",
        "from matplotlib.pyplot import figure\n",
        "from pmdarima.arima.utils import ndiffs\n",
        "from statsmodels.tsa.arima.model import ARIMA\n",
        "\n",
        "def arm(x,n,entity,data):\n",
        "  num=0\n",
        "  for i in entity:\n",
        "    model = pmd.auto_arima(data[i].dropna(), start_p=0, start_q=0,test='adf',  max_p=3, max_q=3,  m=1,  d=None,  seasonal=False,  start_P=0,  D=0,  trace=True, error_action='ignore',  suppress_warnings=True,  stepwise=True)\n",
        "    fc, confint = model.predict(n_periods=n, return_conf_int=True)\n",
        "    fc_series = pd.Series(fc,index=index_of_fc)\n",
        "    lower_series = pd.Series(confint[:, 0], index=index_of_fc)\n",
        "    upper_series = pd.Series(confint[:, 1], index=index_of_fc)\n",
        "    \n",
        "    known_val_index = data.index\n",
        "\n",
        "    pred_series = model.predict(n_periods=n, return_conf_int=False)\n",
        "    #plt.plot(pred_series, label = i)\n",
        "\n",
        "\n",
        "    sns.lineplot(data = data, x = np.asarray(data.index, float), y = data[i],color=\"black\")\n",
        "    sns.lineplot(x = x, y = pred_series, label = i + \" Prediction\")\n",
        "\n",
        "    #plt.plot(data[i],label =i)\n",
        "    #plt.plot(fc_series, )\n",
        "    #plt.fill_between(lower_series.index,lower_series, upper_series, alpha=.15)\n",
        "    plt.legend(fontsize = \"small\",loc='upper left')\n",
        "    plt.title(\"Final Forecast\")\n",
        "\n",
        "  return plt.show()"
      ]
    }
  ]
}